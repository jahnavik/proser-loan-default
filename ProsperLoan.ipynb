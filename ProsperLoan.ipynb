{
 "cells": [
  {
   "cell_type": "markdown",
   "metadata": {},
   "source": [
    "# Prosper Loan Default Prediction\n",
    "\n",
    "## Group 8\n",
    "\n",
    "_Jahnavi Kalyani_\n",
    "\n",
    "_Sakshi Mishra_\n",
    "\n",
    "_Yash Raval_\n",
    "\n",
    "***"
   ]
  },
  {
   "cell_type": "markdown",
   "metadata": {},
   "source": [
    "## Busniess Understanding\n",
    "\n",
    "***"
   ]
  },
  {
   "cell_type": "markdown",
   "metadata": {},
   "source": [
    "## Data Understanding\n",
    "\n",
    "***"
   ]
  },
  {
   "cell_type": "markdown",
   "metadata": {},
   "source": [
    "## Data Preparation\n",
    "\n",
    "**Importing libraries we will be using**"
   ]
  },
  {
   "cell_type": "code",
   "execution_count": 3,
   "metadata": {
    "collapsed": false
   },
   "outputs": [],
   "source": [
    "import pandas as pd\n",
    "import numpy as np\n",
    "import math"
   ]
  },
  {
   "cell_type": "markdown",
   "metadata": {
    "collapsed": true
   },
   "source": [
    "**Importing the data onto a pandas dataframe**"
   ]
  },
  {
   "cell_type": "code",
   "execution_count": 75,
   "metadata": {
    "collapsed": false
   },
   "outputs": [],
   "source": [
    "data = pd.read_csv('ProsperLoanData.csv')"
   ]
  },
  {
   "cell_type": "code",
   "execution_count": 6,
   "metadata": {
    "collapsed": false
   },
   "outputs": [
    {
     "data": {
      "text/plain": [
       "113937"
      ]
     },
     "execution_count": 6,
     "metadata": {},
     "output_type": "execute_result"
    }
   ],
   "source": [
    "len(data)"
   ]
  },
  {
   "cell_type": "code",
   "execution_count": 7,
   "metadata": {
    "collapsed": false
   },
   "outputs": [
    {
     "data": {
      "text/html": [
       "<div>\n",
       "<table border=\"1\" class=\"dataframe\">\n",
       "  <thead>\n",
       "    <tr style=\"text-align: right;\">\n",
       "      <th></th>\n",
       "      <th>ListingKey</th>\n",
       "      <th>ListingNumber</th>\n",
       "      <th>ListingCreationDate</th>\n",
       "      <th>CreditGrade</th>\n",
       "      <th>Term</th>\n",
       "      <th>LoanStatus</th>\n",
       "      <th>ClosedDate</th>\n",
       "      <th>BorrowerAPR</th>\n",
       "      <th>BorrowerRate</th>\n",
       "      <th>LenderYield</th>\n",
       "      <th>...</th>\n",
       "      <th>LP_ServiceFees</th>\n",
       "      <th>LP_CollectionFees</th>\n",
       "      <th>LP_GrossPrincipalLoss</th>\n",
       "      <th>LP_NetPrincipalLoss</th>\n",
       "      <th>LP_NonPrincipalRecoverypayments</th>\n",
       "      <th>PercentFunded</th>\n",
       "      <th>Recommendations</th>\n",
       "      <th>InvestmentFromFriendsCount</th>\n",
       "      <th>InvestmentFromFriendsAmount</th>\n",
       "      <th>Investors</th>\n",
       "    </tr>\n",
       "  </thead>\n",
       "  <tbody>\n",
       "    <tr>\n",
       "      <th>0</th>\n",
       "      <td>1021339766868145413AB3B</td>\n",
       "      <td>193129</td>\n",
       "      <td>2007-08-26 19:09:29.263000000</td>\n",
       "      <td>C</td>\n",
       "      <td>36</td>\n",
       "      <td>Completed</td>\n",
       "      <td>2009-08-14 00:00:00</td>\n",
       "      <td>0.16516</td>\n",
       "      <td>0.1580</td>\n",
       "      <td>0.1380</td>\n",
       "      <td>...</td>\n",
       "      <td>-133.18</td>\n",
       "      <td>0.0</td>\n",
       "      <td>0.0</td>\n",
       "      <td>0.0</td>\n",
       "      <td>0.0</td>\n",
       "      <td>1.0</td>\n",
       "      <td>0</td>\n",
       "      <td>0</td>\n",
       "      <td>0.0</td>\n",
       "      <td>258</td>\n",
       "    </tr>\n",
       "    <tr>\n",
       "      <th>1</th>\n",
       "      <td>10273602499503308B223C1</td>\n",
       "      <td>1209647</td>\n",
       "      <td>2014-02-27 08:28:07.900000000</td>\n",
       "      <td>NaN</td>\n",
       "      <td>36</td>\n",
       "      <td>Current</td>\n",
       "      <td>NaN</td>\n",
       "      <td>0.12016</td>\n",
       "      <td>0.0920</td>\n",
       "      <td>0.0820</td>\n",
       "      <td>...</td>\n",
       "      <td>0.00</td>\n",
       "      <td>0.0</td>\n",
       "      <td>0.0</td>\n",
       "      <td>0.0</td>\n",
       "      <td>0.0</td>\n",
       "      <td>1.0</td>\n",
       "      <td>0</td>\n",
       "      <td>0</td>\n",
       "      <td>0.0</td>\n",
       "      <td>1</td>\n",
       "    </tr>\n",
       "    <tr>\n",
       "      <th>2</th>\n",
       "      <td>0EE9337825851032864889A</td>\n",
       "      <td>81716</td>\n",
       "      <td>2007-01-05 15:00:47.090000000</td>\n",
       "      <td>HR</td>\n",
       "      <td>36</td>\n",
       "      <td>Completed</td>\n",
       "      <td>2009-12-17 00:00:00</td>\n",
       "      <td>0.28269</td>\n",
       "      <td>0.2750</td>\n",
       "      <td>0.2400</td>\n",
       "      <td>...</td>\n",
       "      <td>-24.20</td>\n",
       "      <td>0.0</td>\n",
       "      <td>0.0</td>\n",
       "      <td>0.0</td>\n",
       "      <td>0.0</td>\n",
       "      <td>1.0</td>\n",
       "      <td>0</td>\n",
       "      <td>0</td>\n",
       "      <td>0.0</td>\n",
       "      <td>41</td>\n",
       "    </tr>\n",
       "    <tr>\n",
       "      <th>3</th>\n",
       "      <td>0EF5356002482715299901A</td>\n",
       "      <td>658116</td>\n",
       "      <td>2012-10-22 11:02:35.010000000</td>\n",
       "      <td>NaN</td>\n",
       "      <td>36</td>\n",
       "      <td>Current</td>\n",
       "      <td>NaN</td>\n",
       "      <td>0.12528</td>\n",
       "      <td>0.0974</td>\n",
       "      <td>0.0874</td>\n",
       "      <td>...</td>\n",
       "      <td>-108.01</td>\n",
       "      <td>0.0</td>\n",
       "      <td>0.0</td>\n",
       "      <td>0.0</td>\n",
       "      <td>0.0</td>\n",
       "      <td>1.0</td>\n",
       "      <td>0</td>\n",
       "      <td>0</td>\n",
       "      <td>0.0</td>\n",
       "      <td>158</td>\n",
       "    </tr>\n",
       "    <tr>\n",
       "      <th>4</th>\n",
       "      <td>0F023589499656230C5E3E2</td>\n",
       "      <td>909464</td>\n",
       "      <td>2013-09-14 18:38:39.097000000</td>\n",
       "      <td>NaN</td>\n",
       "      <td>36</td>\n",
       "      <td>Current</td>\n",
       "      <td>NaN</td>\n",
       "      <td>0.24614</td>\n",
       "      <td>0.2085</td>\n",
       "      <td>0.1985</td>\n",
       "      <td>...</td>\n",
       "      <td>-60.27</td>\n",
       "      <td>0.0</td>\n",
       "      <td>0.0</td>\n",
       "      <td>0.0</td>\n",
       "      <td>0.0</td>\n",
       "      <td>1.0</td>\n",
       "      <td>0</td>\n",
       "      <td>0</td>\n",
       "      <td>0.0</td>\n",
       "      <td>20</td>\n",
       "    </tr>\n",
       "  </tbody>\n",
       "</table>\n",
       "<p>5 rows × 81 columns</p>\n",
       "</div>"
      ],
      "text/plain": [
       "                ListingKey  ListingNumber            ListingCreationDate  \\\n",
       "0  1021339766868145413AB3B         193129  2007-08-26 19:09:29.263000000   \n",
       "1  10273602499503308B223C1        1209647  2014-02-27 08:28:07.900000000   \n",
       "2  0EE9337825851032864889A          81716  2007-01-05 15:00:47.090000000   \n",
       "3  0EF5356002482715299901A         658116  2012-10-22 11:02:35.010000000   \n",
       "4  0F023589499656230C5E3E2         909464  2013-09-14 18:38:39.097000000   \n",
       "\n",
       "  CreditGrade  Term LoanStatus           ClosedDate  BorrowerAPR  \\\n",
       "0           C    36  Completed  2009-08-14 00:00:00      0.16516   \n",
       "1         NaN    36    Current                  NaN      0.12016   \n",
       "2          HR    36  Completed  2009-12-17 00:00:00      0.28269   \n",
       "3         NaN    36    Current                  NaN      0.12528   \n",
       "4         NaN    36    Current                  NaN      0.24614   \n",
       "\n",
       "   BorrowerRate  LenderYield    ...     LP_ServiceFees  LP_CollectionFees  \\\n",
       "0        0.1580       0.1380    ...            -133.18                0.0   \n",
       "1        0.0920       0.0820    ...               0.00                0.0   \n",
       "2        0.2750       0.2400    ...             -24.20                0.0   \n",
       "3        0.0974       0.0874    ...            -108.01                0.0   \n",
       "4        0.2085       0.1985    ...             -60.27                0.0   \n",
       "\n",
       "   LP_GrossPrincipalLoss  LP_NetPrincipalLoss LP_NonPrincipalRecoverypayments  \\\n",
       "0                    0.0                  0.0                             0.0   \n",
       "1                    0.0                  0.0                             0.0   \n",
       "2                    0.0                  0.0                             0.0   \n",
       "3                    0.0                  0.0                             0.0   \n",
       "4                    0.0                  0.0                             0.0   \n",
       "\n",
       "   PercentFunded  Recommendations InvestmentFromFriendsCount  \\\n",
       "0            1.0                0                          0   \n",
       "1            1.0                0                          0   \n",
       "2            1.0                0                          0   \n",
       "3            1.0                0                          0   \n",
       "4            1.0                0                          0   \n",
       "\n",
       "  InvestmentFromFriendsAmount Investors  \n",
       "0                         0.0       258  \n",
       "1                         0.0         1  \n",
       "2                         0.0        41  \n",
       "3                         0.0       158  \n",
       "4                         0.0        20  \n",
       "\n",
       "[5 rows x 81 columns]"
      ]
     },
     "execution_count": 7,
     "metadata": {},
     "output_type": "execute_result"
    }
   ],
   "source": [
    "data.head()"
   ]
  },
  {
   "cell_type": "code",
   "execution_count": 5,
   "metadata": {
    "collapsed": false
   },
   "outputs": [
    {
     "data": {
      "text/plain": [
       "ListingKey                              object\n",
       "ListingNumber                            int64\n",
       "ListingCreationDate                     object\n",
       "CreditGrade                             object\n",
       "Term                                     int64\n",
       "LoanStatus                              object\n",
       "ClosedDate                              object\n",
       "BorrowerAPR                            float64\n",
       "BorrowerRate                           float64\n",
       "LenderYield                            float64\n",
       "EstimatedEffectiveYield                float64\n",
       "EstimatedLoss                          float64\n",
       "EstimatedReturn                        float64\n",
       "ProsperRating (numeric)                float64\n",
       "ProsperRating (Alpha)                   object\n",
       "ProsperScore                           float64\n",
       "ListingCategory (numeric)                int64\n",
       "BorrowerState                           object\n",
       "Occupation                              object\n",
       "EmploymentStatus                        object\n",
       "EmploymentStatusDuration               float64\n",
       "IsBorrowerHomeowner                       bool\n",
       "CurrentlyInGroup                          bool\n",
       "GroupKey                                object\n",
       "DateCreditPulled                        object\n",
       "CreditScoreRangeLower                  float64\n",
       "CreditScoreRangeUpper                  float64\n",
       "FirstRecordedCreditLine                 object\n",
       "CurrentCreditLines                     float64\n",
       "OpenCreditLines                        float64\n",
       "                                        ...   \n",
       "TotalProsperLoans                      float64\n",
       "TotalProsperPaymentsBilled             float64\n",
       "OnTimeProsperPayments                  float64\n",
       "ProsperPaymentsLessThanOneMonthLate    float64\n",
       "ProsperPaymentsOneMonthPlusLate        float64\n",
       "ProsperPrincipalBorrowed               float64\n",
       "ProsperPrincipalOutstanding            float64\n",
       "ScorexChangeAtTimeOfListing            float64\n",
       "LoanCurrentDaysDelinquent                int64\n",
       "LoanFirstDefaultedCycleNumber          float64\n",
       "LoanMonthsSinceOrigination               int64\n",
       "LoanNumber                               int64\n",
       "LoanOriginalAmount                       int64\n",
       "LoanOriginationDate                     object\n",
       "LoanOriginationQuarter                  object\n",
       "MemberKey                               object\n",
       "MonthlyLoanPayment                     float64\n",
       "LP_CustomerPayments                    float64\n",
       "LP_CustomerPrincipalPayments           float64\n",
       "LP_InterestandFees                     float64\n",
       "LP_ServiceFees                         float64\n",
       "LP_CollectionFees                      float64\n",
       "LP_GrossPrincipalLoss                  float64\n",
       "LP_NetPrincipalLoss                    float64\n",
       "LP_NonPrincipalRecoverypayments        float64\n",
       "PercentFunded                          float64\n",
       "Recommendations                          int64\n",
       "InvestmentFromFriendsCount               int64\n",
       "InvestmentFromFriendsAmount            float64\n",
       "Investors                                int64\n",
       "dtype: object"
      ]
     },
     "execution_count": 5,
     "metadata": {},
     "output_type": "execute_result"
    }
   ],
   "source": [
    "data.dtypes"
   ]
  },
  {
   "cell_type": "markdown",
   "metadata": {},
   "source": [
    "### Data Cleaning"
   ]
  },
  {
   "cell_type": "code",
   "execution_count": 6,
   "metadata": {
    "collapsed": true
   },
   "outputs": [],
   "source": [
    "# Keeping a copy of the original dataframe\n",
    "orig_data = data"
   ]
  },
  {
   "cell_type": "code",
   "execution_count": 76,
   "metadata": {
    "collapsed": false
   },
   "outputs": [
    {
     "data": {
      "text/html": [
       "<div>\n",
       "<table border=\"1\" class=\"dataframe\">\n",
       "  <thead>\n",
       "    <tr style=\"text-align: right;\">\n",
       "      <th></th>\n",
       "      <th>ListingKey</th>\n",
       "      <th>ListingNumber</th>\n",
       "      <th>ListingCreationDate</th>\n",
       "      <th>CreditGrade</th>\n",
       "      <th>Term</th>\n",
       "      <th>LoanStatus</th>\n",
       "      <th>ClosedDate</th>\n",
       "      <th>BorrowerAPR</th>\n",
       "      <th>BorrowerRate</th>\n",
       "      <th>LenderYield</th>\n",
       "      <th>...</th>\n",
       "      <th>LP_ServiceFees</th>\n",
       "      <th>LP_CollectionFees</th>\n",
       "      <th>LP_GrossPrincipalLoss</th>\n",
       "      <th>LP_NetPrincipalLoss</th>\n",
       "      <th>LP_NonPrincipalRecoverypayments</th>\n",
       "      <th>PercentFunded</th>\n",
       "      <th>Recommendations</th>\n",
       "      <th>InvestmentFromFriendsCount</th>\n",
       "      <th>InvestmentFromFriendsAmount</th>\n",
       "      <th>Investors</th>\n",
       "    </tr>\n",
       "  </thead>\n",
       "  <tbody>\n",
       "    <tr>\n",
       "      <th>0</th>\n",
       "      <td>1021339766868145413AB3B</td>\n",
       "      <td>193129</td>\n",
       "      <td>2007-08-26 19:09:29.263000000</td>\n",
       "      <td>C</td>\n",
       "      <td>36</td>\n",
       "      <td>Completed</td>\n",
       "      <td>2009-08-14 00:00:00</td>\n",
       "      <td>0.16516</td>\n",
       "      <td>0.1580</td>\n",
       "      <td>0.1380</td>\n",
       "      <td>...</td>\n",
       "      <td>-133.18</td>\n",
       "      <td>0.0</td>\n",
       "      <td>0.0</td>\n",
       "      <td>0.0</td>\n",
       "      <td>0.0</td>\n",
       "      <td>1.0</td>\n",
       "      <td>0</td>\n",
       "      <td>0</td>\n",
       "      <td>0.0</td>\n",
       "      <td>258</td>\n",
       "    </tr>\n",
       "    <tr>\n",
       "      <th>1</th>\n",
       "      <td>10273602499503308B223C1</td>\n",
       "      <td>1209647</td>\n",
       "      <td>2014-02-27 08:28:07.900000000</td>\n",
       "      <td>NaN</td>\n",
       "      <td>36</td>\n",
       "      <td>Current</td>\n",
       "      <td>NaN</td>\n",
       "      <td>0.12016</td>\n",
       "      <td>0.0920</td>\n",
       "      <td>0.0820</td>\n",
       "      <td>...</td>\n",
       "      <td>0.00</td>\n",
       "      <td>0.0</td>\n",
       "      <td>0.0</td>\n",
       "      <td>0.0</td>\n",
       "      <td>0.0</td>\n",
       "      <td>1.0</td>\n",
       "      <td>0</td>\n",
       "      <td>0</td>\n",
       "      <td>0.0</td>\n",
       "      <td>1</td>\n",
       "    </tr>\n",
       "    <tr>\n",
       "      <th>2</th>\n",
       "      <td>0EE9337825851032864889A</td>\n",
       "      <td>81716</td>\n",
       "      <td>2007-01-05 15:00:47.090000000</td>\n",
       "      <td>HR</td>\n",
       "      <td>36</td>\n",
       "      <td>Completed</td>\n",
       "      <td>2009-12-17 00:00:00</td>\n",
       "      <td>0.28269</td>\n",
       "      <td>0.2750</td>\n",
       "      <td>0.2400</td>\n",
       "      <td>...</td>\n",
       "      <td>-24.20</td>\n",
       "      <td>0.0</td>\n",
       "      <td>0.0</td>\n",
       "      <td>0.0</td>\n",
       "      <td>0.0</td>\n",
       "      <td>1.0</td>\n",
       "      <td>0</td>\n",
       "      <td>0</td>\n",
       "      <td>0.0</td>\n",
       "      <td>41</td>\n",
       "    </tr>\n",
       "    <tr>\n",
       "      <th>3</th>\n",
       "      <td>0EF5356002482715299901A</td>\n",
       "      <td>658116</td>\n",
       "      <td>2012-10-22 11:02:35.010000000</td>\n",
       "      <td>NaN</td>\n",
       "      <td>36</td>\n",
       "      <td>Current</td>\n",
       "      <td>NaN</td>\n",
       "      <td>0.12528</td>\n",
       "      <td>0.0974</td>\n",
       "      <td>0.0874</td>\n",
       "      <td>...</td>\n",
       "      <td>-108.01</td>\n",
       "      <td>0.0</td>\n",
       "      <td>0.0</td>\n",
       "      <td>0.0</td>\n",
       "      <td>0.0</td>\n",
       "      <td>1.0</td>\n",
       "      <td>0</td>\n",
       "      <td>0</td>\n",
       "      <td>0.0</td>\n",
       "      <td>158</td>\n",
       "    </tr>\n",
       "    <tr>\n",
       "      <th>4</th>\n",
       "      <td>0F023589499656230C5E3E2</td>\n",
       "      <td>909464</td>\n",
       "      <td>2013-09-14 18:38:39.097000000</td>\n",
       "      <td>NaN</td>\n",
       "      <td>36</td>\n",
       "      <td>Current</td>\n",
       "      <td>NaN</td>\n",
       "      <td>0.24614</td>\n",
       "      <td>0.2085</td>\n",
       "      <td>0.1985</td>\n",
       "      <td>...</td>\n",
       "      <td>-60.27</td>\n",
       "      <td>0.0</td>\n",
       "      <td>0.0</td>\n",
       "      <td>0.0</td>\n",
       "      <td>0.0</td>\n",
       "      <td>1.0</td>\n",
       "      <td>0</td>\n",
       "      <td>0</td>\n",
       "      <td>0.0</td>\n",
       "      <td>20</td>\n",
       "    </tr>\n",
       "  </tbody>\n",
       "</table>\n",
       "<p>5 rows × 81 columns</p>\n",
       "</div>"
      ],
      "text/plain": [
       "                ListingKey  ListingNumber            ListingCreationDate  \\\n",
       "0  1021339766868145413AB3B         193129  2007-08-26 19:09:29.263000000   \n",
       "1  10273602499503308B223C1        1209647  2014-02-27 08:28:07.900000000   \n",
       "2  0EE9337825851032864889A          81716  2007-01-05 15:00:47.090000000   \n",
       "3  0EF5356002482715299901A         658116  2012-10-22 11:02:35.010000000   \n",
       "4  0F023589499656230C5E3E2         909464  2013-09-14 18:38:39.097000000   \n",
       "\n",
       "  CreditGrade  Term LoanStatus           ClosedDate  BorrowerAPR  \\\n",
       "0           C    36  Completed  2009-08-14 00:00:00      0.16516   \n",
       "1         NaN    36    Current                  NaN      0.12016   \n",
       "2          HR    36  Completed  2009-12-17 00:00:00      0.28269   \n",
       "3         NaN    36    Current                  NaN      0.12528   \n",
       "4         NaN    36    Current                  NaN      0.24614   \n",
       "\n",
       "   BorrowerRate  LenderYield    ...     LP_ServiceFees  LP_CollectionFees  \\\n",
       "0        0.1580       0.1380    ...            -133.18                0.0   \n",
       "1        0.0920       0.0820    ...               0.00                0.0   \n",
       "2        0.2750       0.2400    ...             -24.20                0.0   \n",
       "3        0.0974       0.0874    ...            -108.01                0.0   \n",
       "4        0.2085       0.1985    ...             -60.27                0.0   \n",
       "\n",
       "   LP_GrossPrincipalLoss  LP_NetPrincipalLoss LP_NonPrincipalRecoverypayments  \\\n",
       "0                    0.0                  0.0                             0.0   \n",
       "1                    0.0                  0.0                             0.0   \n",
       "2                    0.0                  0.0                             0.0   \n",
       "3                    0.0                  0.0                             0.0   \n",
       "4                    0.0                  0.0                             0.0   \n",
       "\n",
       "   PercentFunded  Recommendations InvestmentFromFriendsCount  \\\n",
       "0            1.0                0                          0   \n",
       "1            1.0                0                          0   \n",
       "2            1.0                0                          0   \n",
       "3            1.0                0                          0   \n",
       "4            1.0                0                          0   \n",
       "\n",
       "  InvestmentFromFriendsAmount Investors  \n",
       "0                         0.0       258  \n",
       "1                         0.0         1  \n",
       "2                         0.0        41  \n",
       "3                         0.0       158  \n",
       "4                         0.0        20  \n",
       "\n",
       "[5 rows x 81 columns]"
      ]
     },
     "execution_count": 76,
     "metadata": {},
     "output_type": "execute_result"
    }
   ],
   "source": [
    "data.head()"
   ]
  },
  {
   "cell_type": "code",
   "execution_count": 77,
   "metadata": {
    "collapsed": false
   },
   "outputs": [
    {
     "data": {
      "text/html": [
       "<div>\n",
       "<table border=\"1\" class=\"dataframe\">\n",
       "  <thead>\n",
       "    <tr style=\"text-align: right;\">\n",
       "      <th></th>\n",
       "      <th>ListingCreationDate</th>\n",
       "      <th>CreditGrade</th>\n",
       "      <th>Term</th>\n",
       "      <th>LoanStatus</th>\n",
       "      <th>ClosedDate</th>\n",
       "      <th>BorrowerAPR</th>\n",
       "      <th>BorrowerRate</th>\n",
       "      <th>LenderYield</th>\n",
       "      <th>EstimatedEffectiveYield</th>\n",
       "      <th>EstimatedLoss</th>\n",
       "      <th>...</th>\n",
       "      <th>LP_ServiceFees</th>\n",
       "      <th>LP_CollectionFees</th>\n",
       "      <th>LP_GrossPrincipalLoss</th>\n",
       "      <th>LP_NetPrincipalLoss</th>\n",
       "      <th>LP_NonPrincipalRecoverypayments</th>\n",
       "      <th>PercentFunded</th>\n",
       "      <th>Recommendations</th>\n",
       "      <th>InvestmentFromFriendsCount</th>\n",
       "      <th>InvestmentFromFriendsAmount</th>\n",
       "      <th>Investors</th>\n",
       "    </tr>\n",
       "  </thead>\n",
       "  <tbody>\n",
       "    <tr>\n",
       "      <th>0</th>\n",
       "      <td>2007-08-26 19:09:29.263000000</td>\n",
       "      <td>C</td>\n",
       "      <td>36</td>\n",
       "      <td>Completed</td>\n",
       "      <td>2009-08-14 00:00:00</td>\n",
       "      <td>0.16516</td>\n",
       "      <td>0.1580</td>\n",
       "      <td>0.1380</td>\n",
       "      <td>NaN</td>\n",
       "      <td>NaN</td>\n",
       "      <td>...</td>\n",
       "      <td>-133.18</td>\n",
       "      <td>0.0</td>\n",
       "      <td>0.0</td>\n",
       "      <td>0.0</td>\n",
       "      <td>0.0</td>\n",
       "      <td>1.0</td>\n",
       "      <td>0</td>\n",
       "      <td>0</td>\n",
       "      <td>0.0</td>\n",
       "      <td>258</td>\n",
       "    </tr>\n",
       "    <tr>\n",
       "      <th>1</th>\n",
       "      <td>2014-02-27 08:28:07.900000000</td>\n",
       "      <td>NaN</td>\n",
       "      <td>36</td>\n",
       "      <td>Current</td>\n",
       "      <td>NaN</td>\n",
       "      <td>0.12016</td>\n",
       "      <td>0.0920</td>\n",
       "      <td>0.0820</td>\n",
       "      <td>0.07960</td>\n",
       "      <td>0.0249</td>\n",
       "      <td>...</td>\n",
       "      <td>0.00</td>\n",
       "      <td>0.0</td>\n",
       "      <td>0.0</td>\n",
       "      <td>0.0</td>\n",
       "      <td>0.0</td>\n",
       "      <td>1.0</td>\n",
       "      <td>0</td>\n",
       "      <td>0</td>\n",
       "      <td>0.0</td>\n",
       "      <td>1</td>\n",
       "    </tr>\n",
       "    <tr>\n",
       "      <th>2</th>\n",
       "      <td>2007-01-05 15:00:47.090000000</td>\n",
       "      <td>HR</td>\n",
       "      <td>36</td>\n",
       "      <td>Completed</td>\n",
       "      <td>2009-12-17 00:00:00</td>\n",
       "      <td>0.28269</td>\n",
       "      <td>0.2750</td>\n",
       "      <td>0.2400</td>\n",
       "      <td>NaN</td>\n",
       "      <td>NaN</td>\n",
       "      <td>...</td>\n",
       "      <td>-24.20</td>\n",
       "      <td>0.0</td>\n",
       "      <td>0.0</td>\n",
       "      <td>0.0</td>\n",
       "      <td>0.0</td>\n",
       "      <td>1.0</td>\n",
       "      <td>0</td>\n",
       "      <td>0</td>\n",
       "      <td>0.0</td>\n",
       "      <td>41</td>\n",
       "    </tr>\n",
       "    <tr>\n",
       "      <th>3</th>\n",
       "      <td>2012-10-22 11:02:35.010000000</td>\n",
       "      <td>NaN</td>\n",
       "      <td>36</td>\n",
       "      <td>Current</td>\n",
       "      <td>NaN</td>\n",
       "      <td>0.12528</td>\n",
       "      <td>0.0974</td>\n",
       "      <td>0.0874</td>\n",
       "      <td>0.08490</td>\n",
       "      <td>0.0249</td>\n",
       "      <td>...</td>\n",
       "      <td>-108.01</td>\n",
       "      <td>0.0</td>\n",
       "      <td>0.0</td>\n",
       "      <td>0.0</td>\n",
       "      <td>0.0</td>\n",
       "      <td>1.0</td>\n",
       "      <td>0</td>\n",
       "      <td>0</td>\n",
       "      <td>0.0</td>\n",
       "      <td>158</td>\n",
       "    </tr>\n",
       "    <tr>\n",
       "      <th>4</th>\n",
       "      <td>2013-09-14 18:38:39.097000000</td>\n",
       "      <td>NaN</td>\n",
       "      <td>36</td>\n",
       "      <td>Current</td>\n",
       "      <td>NaN</td>\n",
       "      <td>0.24614</td>\n",
       "      <td>0.2085</td>\n",
       "      <td>0.1985</td>\n",
       "      <td>0.18316</td>\n",
       "      <td>0.0925</td>\n",
       "      <td>...</td>\n",
       "      <td>-60.27</td>\n",
       "      <td>0.0</td>\n",
       "      <td>0.0</td>\n",
       "      <td>0.0</td>\n",
       "      <td>0.0</td>\n",
       "      <td>1.0</td>\n",
       "      <td>0</td>\n",
       "      <td>0</td>\n",
       "      <td>0.0</td>\n",
       "      <td>20</td>\n",
       "    </tr>\n",
       "  </tbody>\n",
       "</table>\n",
       "<p>5 rows × 79 columns</p>\n",
       "</div>"
      ],
      "text/plain": [
       "             ListingCreationDate CreditGrade  Term LoanStatus  \\\n",
       "0  2007-08-26 19:09:29.263000000           C    36  Completed   \n",
       "1  2014-02-27 08:28:07.900000000         NaN    36    Current   \n",
       "2  2007-01-05 15:00:47.090000000          HR    36  Completed   \n",
       "3  2012-10-22 11:02:35.010000000         NaN    36    Current   \n",
       "4  2013-09-14 18:38:39.097000000         NaN    36    Current   \n",
       "\n",
       "            ClosedDate  BorrowerAPR  BorrowerRate  LenderYield  \\\n",
       "0  2009-08-14 00:00:00      0.16516        0.1580       0.1380   \n",
       "1                  NaN      0.12016        0.0920       0.0820   \n",
       "2  2009-12-17 00:00:00      0.28269        0.2750       0.2400   \n",
       "3                  NaN      0.12528        0.0974       0.0874   \n",
       "4                  NaN      0.24614        0.2085       0.1985   \n",
       "\n",
       "   EstimatedEffectiveYield  EstimatedLoss    ...     LP_ServiceFees  \\\n",
       "0                      NaN            NaN    ...            -133.18   \n",
       "1                  0.07960         0.0249    ...               0.00   \n",
       "2                      NaN            NaN    ...             -24.20   \n",
       "3                  0.08490         0.0249    ...            -108.01   \n",
       "4                  0.18316         0.0925    ...             -60.27   \n",
       "\n",
       "   LP_CollectionFees LP_GrossPrincipalLoss  LP_NetPrincipalLoss  \\\n",
       "0                0.0                   0.0                  0.0   \n",
       "1                0.0                   0.0                  0.0   \n",
       "2                0.0                   0.0                  0.0   \n",
       "3                0.0                   0.0                  0.0   \n",
       "4                0.0                   0.0                  0.0   \n",
       "\n",
       "   LP_NonPrincipalRecoverypayments PercentFunded Recommendations  \\\n",
       "0                              0.0           1.0               0   \n",
       "1                              0.0           1.0               0   \n",
       "2                              0.0           1.0               0   \n",
       "3                              0.0           1.0               0   \n",
       "4                              0.0           1.0               0   \n",
       "\n",
       "  InvestmentFromFriendsCount  InvestmentFromFriendsAmount Investors  \n",
       "0                          0                          0.0       258  \n",
       "1                          0                          0.0         1  \n",
       "2                          0                          0.0        41  \n",
       "3                          0                          0.0       158  \n",
       "4                          0                          0.0        20  \n",
       "\n",
       "[5 rows x 79 columns]"
      ]
     },
     "execution_count": 77,
     "metadata": {},
     "output_type": "execute_result"
    }
   ],
   "source": [
    "# Removing ListingKey, ListingNumber as they are meaningless for our analysis\n",
    "data = data.drop(['ListingKey', 'ListingNumber'], axis=1)\n",
    "data.head()"
   ]
  },
  {
   "cell_type": "code",
   "execution_count": 12,
   "metadata": {
    "collapsed": true
   },
   "outputs": [],
   "source": [
    "# Dates - split them on Year/Months/Days and check the IG after the initial run to see if they are more informative."
   ]
  },
  {
   "cell_type": "code",
   "execution_count": null,
   "metadata": {
    "collapsed": true
   },
   "outputs": [],
   "source": [
    "# ListingCreationDate - Months/days/year split"
   ]
  },
  {
   "cell_type": "code",
   "execution_count": 9,
   "metadata": {
    "collapsed": false
   },
   "outputs": [
    {
     "data": {
      "text/plain": [
       "84984"
      ]
     },
     "execution_count": 9,
     "metadata": {},
     "output_type": "execute_result"
    }
   ],
   "source": [
    "data.CreditGrade.isnull().sum()"
   ]
  },
  {
   "cell_type": "code",
   "execution_count": 10,
   "metadata": {
    "collapsed": false
   },
   "outputs": [
    {
     "name": "stdout",
     "output_type": "stream",
     "text": [
      "ListingCreationDate 0 113064\n",
      "CreditGrade 84984 8\n",
      "Term 0 3\n",
      "LoanStatus 0 12\n",
      "ClosedDate 58848 2802\n",
      "BorrowerAPR 25 6677\n",
      "BorrowerRate 0 2294\n",
      "LenderYield 0 2283\n",
      "EstimatedEffectiveYield 29084 1582\n",
      "EstimatedLoss 29084 120\n",
      "EstimatedReturn 29084 1476\n",
      "ProsperRating (numeric) 29084 7\n",
      "ProsperRating (Alpha) 29084 7\n",
      "ProsperScore 29084 11\n",
      "ListingCategory (numeric) 0 21\n",
      "BorrowerState 5515 51\n",
      "Occupation 3588 67\n",
      "EmploymentStatus 2255 8\n",
      "EmploymentStatusDuration 7625 605\n",
      "IsBorrowerHomeowner 0 2\n",
      "CurrentlyInGroup 0 2\n",
      "GroupKey 100596 706\n",
      "DateCreditPulled 0 112992\n",
      "CreditScoreRangeLower 591 26\n",
      "CreditScoreRangeUpper 591 26\n",
      "FirstRecordedCreditLine 697 11585\n",
      "CurrentCreditLines 7604 54\n",
      "OpenCreditLines 7604 52\n",
      "TotalCreditLinespast7years 697 118\n",
      "OpenRevolvingAccounts 0 48\n",
      "OpenRevolvingMonthlyPayment 0 2834\n",
      "InquiriesLast6Months 697 50\n",
      "TotalInquiries 1159 102\n",
      "CurrentDelinquencies 697 47\n",
      "AmountDelinquent 7622 7059\n",
      "DelinquenciesLast7Years 990 100\n",
      "PublicRecordsLast10Years 697 25\n",
      "PublicRecordsLast12Months 7604 7\n",
      "RevolvingCreditBalance 7604 38555\n",
      "BankcardUtilization 7604 201\n",
      "AvailableBankcardCredit 7544 31829\n",
      "TotalTrades 7544 108\n",
      "TradesNeverDelinquent (percentage) 7544 98\n",
      "TradesOpenedLast6Months 7544 19\n",
      "DebtToIncomeRatio 8554 1207\n",
      "IncomeRange 0 8\n",
      "IncomeVerifiable 0 2\n",
      "StatedMonthlyIncome 0 13502\n",
      "LoanKey 0 113066\n",
      "TotalProsperLoans 91852 9\n",
      "TotalProsperPaymentsBilled 91852 130\n",
      "OnTimeProsperPayments 91852 127\n",
      "ProsperPaymentsLessThanOneMonthLate 91852 41\n",
      "ProsperPaymentsOneMonthPlusLate 91852 17\n",
      "ProsperPrincipalBorrowed 91852 1442\n",
      "ProsperPrincipalOutstanding 91852 13875\n",
      "ScorexChangeAtTimeOfListing 95009 372\n",
      "LoanCurrentDaysDelinquent 0 2411\n",
      "LoanFirstDefaultedCycleNumber 96985 43\n",
      "LoanMonthsSinceOrigination 0 94\n",
      "LoanNumber 0 113066\n",
      "LoanOriginalAmount 0 2468\n",
      "LoanOriginationDate 0 1873\n",
      "LoanOriginationQuarter 0 33\n",
      "MemberKey 0 90831\n",
      "MonthlyLoanPayment 0 23567\n",
      "LP_CustomerPayments 0 78523\n",
      "LP_CustomerPrincipalPayments 0 49828\n",
      "LP_InterestandFees 0 78751\n",
      "LP_ServiceFees 0 19813\n",
      "LP_CollectionFees 0 6175\n",
      "LP_GrossPrincipalLoss 0 15848\n",
      "LP_NetPrincipalLoss 0 15709\n",
      "LP_NonPrincipalRecoverypayments 0 2631\n",
      "PercentFunded 0 719\n",
      "Recommendations 0 17\n",
      "InvestmentFromFriendsCount 0 14\n",
      "InvestmentFromFriendsAmount 0 726\n",
      "Investors 0 751\n"
     ]
    }
   ],
   "source": [
    "# Credit grade has more than 84000 Nulls. Seems like we should get rid of it! But if we want we can still check its IG \n",
    "#to be sure.\n",
    "\n",
    "for col in data:\n",
    "    number_nan = data[col].isnull().sum()\n",
    "    number_distinct = data[col].nunique(dropna=True)\n",
    "    #stats = input_data[col].describe()\n",
    "    print (col, number_nan, number_distinct)"
   ]
  },
  {
   "cell_type": "code",
   "execution_count": 11,
   "metadata": {
    "collapsed": false
   },
   "outputs": [
    {
     "data": {
      "text/plain": [
       "NaN    84984\n",
       "C       5649\n",
       "D       5153\n",
       "B       4389\n",
       "AA      3509\n",
       "HR      3508\n",
       "A       3315\n",
       "E       3289\n",
       "NC       141\n",
       "Name: CreditGrade, dtype: int64"
      ]
     },
     "execution_count": 11,
     "metadata": {},
     "output_type": "execute_result"
    }
   ],
   "source": [
    "data['CreditGrade'].value_counts(dropna=False) # Check if the nulls are informative? Or other values are? If not get rid of it"
   ]
  },
  {
   "cell_type": "code",
   "execution_count": 12,
   "metadata": {
    "collapsed": false
   },
   "outputs": [
    {
     "data": {
      "text/plain": [
       "36    87778\n",
       "60    24545\n",
       "12     1614\n",
       "Name: Term, dtype: int64"
      ]
     },
     "execution_count": 12,
     "metadata": {},
     "output_type": "execute_result"
    }
   ],
   "source": [
    "data['Term'].value_counts(dropna=False) # Length of loan in months"
   ]
  },
  {
   "cell_type": "code",
   "execution_count": 78,
   "metadata": {
    "collapsed": false
   },
   "outputs": [
    {
     "data": {
      "text/plain": [
       "Current                   56576\n",
       "Completed                 38074\n",
       "Chargedoff                11992\n",
       "Defaulted                  5018\n",
       "Past Due (1-15 days)        806\n",
       "Past Due (31-60 days)       363\n",
       "Past Due (61-90 days)       313\n",
       "Past Due (91-120 days)      304\n",
       "Past Due (16-30 days)       265\n",
       "FinalPaymentInProgress      205\n",
       "Past Due (>120 days)         16\n",
       "Cancelled                     5\n",
       "Name: LoanStatus, dtype: int64"
      ]
     },
     "execution_count": 78,
     "metadata": {},
     "output_type": "execute_result"
    }
   ],
   "source": [
    "data['LoanStatus'].value_counts(dropna=False) # Target"
   ]
  },
  {
   "cell_type": "code",
   "execution_count": 83,
   "metadata": {
    "collapsed": false
   },
   "outputs": [],
   "source": [
    "unique_target = data['LoanStatus'].unique()\n",
    "\n",
    "for i in unique_target:\n",
    "    if i in ['Chargedoff', 'Defaulted']:\n",
    "        data['LoanStatus'] = data['LoanStatus'].replace(i, 1)\n",
    "    else:\n",
    "        data['LoanStatus'] = data['LoanStatus'].replace(i, 0)"
   ]
  },
  {
   "cell_type": "code",
   "execution_count": 84,
   "metadata": {
    "collapsed": false
   },
   "outputs": [
    {
     "data": {
      "text/plain": [
       "0     0\n",
       "1     0\n",
       "2     0\n",
       "3     0\n",
       "4     0\n",
       "5     0\n",
       "6     0\n",
       "7     0\n",
       "8     0\n",
       "9     0\n",
       "10    0\n",
       "11    0\n",
       "12    0\n",
       "13    0\n",
       "14    0\n",
       "15    1\n",
       "16    0\n",
       "17    1\n",
       "18    0\n",
       "19    0\n",
       "Name: LoanStatus, dtype: int64"
      ]
     },
     "execution_count": 84,
     "metadata": {},
     "output_type": "execute_result"
    }
   ],
   "source": [
    "data['LoanStatus'].head(20)"
   ]
  },
  {
   "cell_type": "code",
   "execution_count": 36,
   "metadata": {
    "collapsed": false
   },
   "outputs": [],
   "source": [
    "# ClosedDate - NAN values are probably ongoing ones. "
   ]
  },
  {
   "cell_type": "code",
   "execution_count": 14,
   "metadata": {
    "collapsed": false
   },
   "outputs": [
    {
     "data": {
      "text/plain": [
       "NaN     29084\n",
       " 4.0    18345\n",
       " 5.0    15581\n",
       " 6.0    14551\n",
       " 3.0    14274\n",
       " 2.0     9795\n",
       " 1.0     6935\n",
       " 7.0     5372\n",
       "Name: ProsperRating (numeric), dtype: int64"
      ]
     },
     "execution_count": 14,
     "metadata": {},
     "output_type": "execute_result"
    }
   ],
   "source": [
    "data['ProsperRating (numeric)'].value_counts(dropna=False)"
   ]
  },
  {
   "cell_type": "code",
   "execution_count": 15,
   "metadata": {
    "collapsed": false
   },
   "outputs": [
    {
     "data": {
      "text/plain": [
       "NaN    29084\n",
       "C      18345\n",
       "B      15581\n",
       "A      14551\n",
       "D      14274\n",
       "E       9795\n",
       "HR      6935\n",
       "AA      5372\n",
       "Name: ProsperRating (Alpha), dtype: int64"
      ]
     },
     "execution_count": 15,
     "metadata": {},
     "output_type": "execute_result"
    }
   ],
   "source": [
    "data['ProsperRating (Alpha)'].value_counts(dropna=False)"
   ]
  },
  {
   "cell_type": "code",
   "execution_count": 31,
   "metadata": {
    "collapsed": false
   },
   "outputs": [
    {
     "name": "stdout",
     "output_type": "stream",
     "text": [
      "29084\n"
     ]
    }
   ],
   "source": [
    "# Check for proper mapping of num - alpha\n",
    "a = data['ProsperRating (Alpha)'].values.tolist()\n",
    "n = data['ProsperRating (numeric)'].values.tolist()\n",
    "map_an = {'AA': 7.0, 'HR': 1.0, 'E':2.0, 'D':3.0, 'A':6.0, 'B':5.0, 'C':4.0}\n",
    "count_non_nan = 0\n",
    "\n",
    "for i in range(0, len(n)):\n",
    "    if a[i] in map_an.keys():\n",
    "        if n[i] == map_an[a[i]]:\n",
    "            count_non_nan += 1\n",
    "        else:\n",
    "            print (i, a[i], n[i])\n",
    "print (len(n)-count_non_nan)"
   ]
  },
  {
   "cell_type": "code",
   "execution_count": 61,
   "metadata": {
    "collapsed": false
   },
   "outputs": [
    {
     "data": {
      "text/plain": [
       "NaN      29084\n",
       " 4.0     12595\n",
       " 6.0     12278\n",
       " 8.0     12053\n",
       " 7.0     10597\n",
       " 5.0      9813\n",
       " 3.0      7642\n",
       " 9.0      6911\n",
       " 2.0      5766\n",
       " 10.0     4750\n",
       " 11.0     1456\n",
       " 1.0       992\n",
       "Name: ProsperScore, dtype: int64"
      ]
     },
     "execution_count": 61,
     "metadata": {},
     "output_type": "execute_result"
    }
   ],
   "source": [
    "s = data['ProsperScore'].values.tolist()\n",
    "data['ProsperScore'].value_counts(dropna=False)"
   ]
  },
  {
   "cell_type": "code",
   "execution_count": 57,
   "metadata": {
    "collapsed": false
   },
   "outputs": [],
   "source": [
    "#map_s = {}\n",
    "#for i in data['ProsperScore'].unique():\n",
    "#    map_s[i] = []\n",
    "#map_s"
   ]
  },
  {
   "cell_type": "code",
   "execution_count": 64,
   "metadata": {
    "collapsed": false
   },
   "outputs": [
    {
     "name": "stdout",
     "output_type": "stream",
     "text": [
      "{1.0: [2.0, 1.0, 3.0, 4.0, 6.0, 5.0], 2.0: [2.0, 1.0, 3.0, 4.0, 5.0, 6.0], 3.0: [2.0, 3.0, 1.0, 4.0, 5.0, 6.0, 7.0], 4.0: [3.0, 4.0, 5.0, 2.0, 1.0, 6.0, 7.0], 5.0: [1.0, 3.0, 4.0, 5.0, 2.0, 6.0, 7.0], 6.0: [6.0, 3.0, 4.0, 5.0, 2.0, 1.0, 7.0], 7.0: [6.0, 4.0, 5.0, 3.0, 7.0, 2.0, 1.0], 8.0: [6.0, 3.0, 5.0, 7.0, 4.0, 2.0, 1.0], 9.0: [6.0, 7.0, 5.0, 4.0, 3.0, 2.0, 1.0], 10.0: [5.0, 7.0, 6.0, 4.0, 3.0, 2.0, 1.0], 11.0: [7.0, 6.0, 5.0, 4.0]} 29084\n"
     ]
    }
   ],
   "source": [
    "# Do we want to check how this corrrelates to rating?\n",
    "map_s = {1.0: [], 2.0: [], 3.0: [], 4.0: [], 5.0: [], 6.0: [], 7.0: [], 8.0: [], 9.0: [], 10.0: [], 11.0: []}\n",
    "count_nan = 0\n",
    "\n",
    "for i in range(0, len(n)):\n",
    "    if s[i] in map_s.keys():\n",
    "        if n[i] not in map_s[s[i]]:\n",
    "            map_s[s[i]].append(n[i])\n",
    "    else:\n",
    "        count_nan += 1\n",
    "print (map_s, count_nan)"
   ]
  },
  {
   "cell_type": "code",
   "execution_count": 33,
   "metadata": {
    "collapsed": false
   },
   "outputs": [
    {
     "data": {
      "text/plain": [
       "1     58308\n",
       "0     16965\n",
       "7     10494\n",
       "2      7433\n",
       "3      7189\n",
       "6      2572\n",
       "4      2395\n",
       "13     1996\n",
       "15     1522\n",
       "18      885\n",
       "14      876\n",
       "20      771\n",
       "19      768\n",
       "5       756\n",
       "16      304\n",
       "11      217\n",
       "8       199\n",
       "10       91\n",
       "9        85\n",
       "12       59\n",
       "17       52\n",
       "Name: ListingCategory (numeric), dtype: int64"
      ]
     },
     "execution_count": 33,
     "metadata": {},
     "output_type": "execute_result"
    }
   ],
   "source": [
    "data['ListingCategory (numeric)'].value_counts(dropna=False) # Type of Loan"
   ]
  },
  {
   "cell_type": "code",
   "execution_count": 36,
   "metadata": {
    "collapsed": false
   },
   "outputs": [
    {
     "data": {
      "text/plain": [
       "CA     14717\n",
       "TX      6842\n",
       "NY      6729\n",
       "FL      6720\n",
       "IL      5921\n",
       "NaN     5515\n",
       "GA      5008\n",
       "OH      4197\n",
       "MI      3593\n",
       "VA      3278\n",
       "NJ      3097\n",
       "NC      3084\n",
       "WA      3048\n",
       "PA      2972\n",
       "MD      2821\n",
       "MO      2615\n",
       "MN      2318\n",
       "MA      2242\n",
       "CO      2210\n",
       "IN      2078\n",
       "AZ      1901\n",
       "WI      1842\n",
       "OR      1817\n",
       "TN      1737\n",
       "AL      1679\n",
       "CT      1627\n",
       "SC      1122\n",
       "NV      1090\n",
       "KS      1062\n",
       "KY       983\n",
       "OK       971\n",
       "LA       954\n",
       "UT       877\n",
       "AR       855\n",
       "MS       787\n",
       "NE       674\n",
       "ID       599\n",
       "NH       551\n",
       "NM       472\n",
       "RI       435\n",
       "HI       409\n",
       "WV       391\n",
       "DC       382\n",
       "MT       330\n",
       "DE       300\n",
       "VT       207\n",
       "AK       200\n",
       "SD       189\n",
       "IA       186\n",
       "WY       150\n",
       "ME       101\n",
       "ND        52\n",
       "Name: BorrowerState, dtype: int64"
      ]
     },
     "execution_count": 36,
     "metadata": {},
     "output_type": "execute_result"
    }
   ],
   "source": [
    "#BorrowerState - 51 States\n",
    "data['BorrowerState'].value_counts(dropna=False)"
   ]
  },
  {
   "cell_type": "code",
   "execution_count": 37,
   "metadata": {
    "collapsed": false
   },
   "outputs": [
    {
     "data": {
      "text/plain": [
       "Other                                 28617\n",
       "Professional                          13628\n",
       "Computer Programmer                    4478\n",
       "Executive                              4311\n",
       "Teacher                                3759\n",
       "Administrative Assistant               3688\n",
       "Analyst                                3602\n",
       "NaN                                    3588\n",
       "Sales - Commission                     3446\n",
       "Accountant/CPA                         3233\n",
       "Clerical                               3164\n",
       "Sales - Retail                         2797\n",
       "Skilled Labor                          2746\n",
       "Retail Management                      2602\n",
       "Nurse (RN)                             2489\n",
       "Construction                           1790\n",
       "Truck Driver                           1675\n",
       "Laborer                                1595\n",
       "Police Officer/Correction Officer      1578\n",
       "Civil Service                          1457\n",
       "Engineer - Mechanical                  1406\n",
       "Military Enlisted                      1272\n",
       "Food Service Management                1239\n",
       "Engineer - Electrical                  1125\n",
       "Food Service                           1123\n",
       "Medical Technician                     1117\n",
       "Attorney                               1046\n",
       "Tradesman - Mechanic                    951\n",
       "Social Worker                           741\n",
       "Postal Service                          627\n",
       "                                      ...  \n",
       "Scientist                               372\n",
       "Military Officer                        346\n",
       "Bus Driver                              316\n",
       "Principal                               312\n",
       "Teacher's Aide                          276\n",
       "Pharmacist                              257\n",
       "Student - College Graduate Student      245\n",
       "Landscaping                             236\n",
       "Engineer - Chemical                     225\n",
       "Investor                                214\n",
       "Architect                               213\n",
       "Pilot - Private/Commercial              199\n",
       "Clergy                                  196\n",
       "Student - College Senior                188\n",
       "Car Dealer                              180\n",
       "Chemist                                 145\n",
       "Psychologist                            145\n",
       "Biologist                               125\n",
       "Religious                               124\n",
       "Flight Attendant                        123\n",
       "Homemaker                               120\n",
       "Tradesman - Carpenter                   120\n",
       "Student - College Junior                112\n",
       "Tradesman - Plumber                     102\n",
       "Student - College Sophomore              69\n",
       "Dentist                                  68\n",
       "Student - College Freshman               41\n",
       "Student - Community College              28\n",
       "Judge                                    22\n",
       "Student - Technical School               16\n",
       "Name: Occupation, dtype: int64"
      ]
     },
     "execution_count": 37,
     "metadata": {},
     "output_type": "execute_result"
    }
   ],
   "source": [
    "data['Occupation'].value_counts(dropna=False)\n",
    "# We might want to club different types of say, students or salespersons together to see if they are more informative?"
   ]
  },
  {
   "cell_type": "code",
   "execution_count": 38,
   "metadata": {
    "collapsed": false
   },
   "outputs": [
    {
     "data": {
      "text/plain": [
       "Employed         67322\n",
       "Full-time        26355\n",
       "Self-employed     6134\n",
       "Not available     5347\n",
       "Other             3806\n",
       "NaN               2255\n",
       "Part-time         1088\n",
       "Not employed       835\n",
       "Retired            795\n",
       "Name: EmploymentStatus, dtype: int64"
      ]
     },
     "execution_count": 38,
     "metadata": {},
     "output_type": "execute_result"
    }
   ],
   "source": [
    "data['EmploymentStatus'].value_counts(dropna=False)\n",
    "# We might want to see IG and decide if we want to club or not"
   ]
  },
  {
   "cell_type": "code",
   "execution_count": 39,
   "metadata": {
    "collapsed": false
   },
   "outputs": [
    {
     "data": {
      "text/plain": [
       "NaN       7625\n",
       " 0.0      1534\n",
       " 4.0      1186\n",
       " 1.0      1177\n",
       " 3.0      1174\n",
       " 2.0      1153\n",
       " 5.0      1151\n",
       " 7.0      1116\n",
       " 8.0      1103\n",
       " 6.0      1103\n",
       " 12.0     1076\n",
       " 9.0      1025\n",
       " 13.0     1020\n",
       " 10.0     1008\n",
       " 11.0      991\n",
       " 14.0      989\n",
       " 15.0      933\n",
       " 17.0      930\n",
       " 19.0      899\n",
       " 18.0      894\n",
       " 26.0      889\n",
       " 16.0      886\n",
       " 24.0      874\n",
       " 22.0      868\n",
       " 23.0      855\n",
       " 21.0      851\n",
       " 25.0      843\n",
       " 20.0      836\n",
       " 27.0      812\n",
       " 28.0      796\n",
       "          ... \n",
       " 626.0       1\n",
       " 606.0       1\n",
       " 578.0       1\n",
       " 634.0       1\n",
       " 647.0       1\n",
       " 557.0       1\n",
       " 690.0       1\n",
       " 561.0       1\n",
       " 552.0       1\n",
       " 672.0       1\n",
       " 572.0       1\n",
       " 574.0       1\n",
       " 685.0       1\n",
       " 544.0       1\n",
       " 653.0       1\n",
       " 568.0       1\n",
       " 580.0       1\n",
       " 662.0       1\n",
       " 590.0       1\n",
       " 570.0       1\n",
       " 622.0       1\n",
       " 619.0       1\n",
       " 573.0       1\n",
       " 745.0       1\n",
       " 755.0       1\n",
       " 610.0       1\n",
       " 530.0       1\n",
       " 648.0       1\n",
       " 560.0       1\n",
       " 581.0       1\n",
       "Name: EmploymentStatusDuration, dtype: int64"
      ]
     },
     "execution_count": 39,
     "metadata": {},
     "output_type": "execute_result"
    }
   ],
   "source": [
    "data['EmploymentStatus'].value_counts(dropna=False)"
   ]
  },
  {
   "cell_type": "code",
   "execution_count": 40,
   "metadata": {
    "collapsed": false
   },
   "outputs": [
    {
     "data": {
      "text/plain": [
       "True     57478\n",
       "False    56459\n",
       "Name: IsBorrowerHomeowner, dtype: int64"
      ]
     },
     "execution_count": 40,
     "metadata": {},
     "output_type": "execute_result"
    }
   ],
   "source": [
    "data['IsBorrowerHomeowner'].value_counts(dropna=False)"
   ]
  },
  {
   "cell_type": "code",
   "execution_count": 41,
   "metadata": {
    "collapsed": false
   },
   "outputs": [
    {
     "data": {
      "text/plain": [
       "False    101218\n",
       "True      12719\n",
       "Name: CurrentlyInGroup, dtype: int64"
      ]
     },
     "execution_count": 41,
     "metadata": {},
     "output_type": "execute_result"
    }
   ],
   "source": [
    "data['CurrentlyInGroup'].value_counts(dropna=False)\n",
    "# False - not in group "
   ]
  },
  {
   "cell_type": "code",
   "execution_count": null,
   "metadata": {
    "collapsed": true
   },
   "outputs": [],
   "source": [
    "#GroupKey has 100596 Nulls and 706 unique - Check IG to See if you want to get rid of it or not!"
   ]
  },
  {
   "cell_type": "code",
   "execution_count": null,
   "metadata": {
    "collapsed": true
   },
   "outputs": [],
   "source": [
    "#DateCreditPulled - check date format? - Maybe get days/weeks/months/years ??"
   ]
  },
  {
   "cell_type": "code",
   "execution_count": 42,
   "metadata": {
    "collapsed": false
   },
   "outputs": [
    {
     "data": {
      "text/plain": [
       " 680.0    16492\n",
       " 660.0    16366\n",
       " 700.0    15471\n",
       " 720.0    12923\n",
       " 640.0    12199\n",
       " 740.0     9267\n",
       " 760.0     6606\n",
       " 780.0     4624\n",
       " 620.0     4172\n",
       " 600.0     3602\n",
       " 800.0     2644\n",
       " 520.0     1593\n",
       " 540.0     1474\n",
       " 820.0     1409\n",
       " 560.0     1357\n",
       " 580.0     1125\n",
       "NaN         591\n",
       " 840.0      567\n",
       " 500.0      554\n",
       " 480.0      346\n",
       " 860.0      212\n",
       " 460.0      141\n",
       " 0.0        133\n",
       " 440.0       36\n",
       " 880.0       27\n",
       " 420.0        5\n",
       " 360.0        1\n",
       "Name: CreditScoreRangeLower, dtype: int64"
      ]
     },
     "execution_count": 42,
     "metadata": {},
     "output_type": "execute_result"
    }
   ],
   "source": [
    "data['CreditScoreRangeLower'].value_counts(dropna=False)"
   ]
  },
  {
   "cell_type": "code",
   "execution_count": 43,
   "metadata": {
    "collapsed": false
   },
   "outputs": [
    {
     "data": {
      "text/plain": [
       " 699.0    16492\n",
       " 679.0    16366\n",
       " 719.0    15471\n",
       " 739.0    12923\n",
       " 659.0    12199\n",
       " 759.0     9267\n",
       " 779.0     6606\n",
       " 799.0     4624\n",
       " 639.0     4172\n",
       " 619.0     3602\n",
       " 819.0     2644\n",
       " 539.0     1593\n",
       " 559.0     1474\n",
       " 839.0     1409\n",
       " 579.0     1357\n",
       " 599.0     1125\n",
       "NaN         591\n",
       " 859.0      567\n",
       " 519.0      554\n",
       " 499.0      346\n",
       " 879.0      212\n",
       " 479.0      141\n",
       " 19.0       133\n",
       " 459.0       36\n",
       " 899.0       27\n",
       " 439.0        5\n",
       " 379.0        1\n",
       "Name: CreditScoreRangeUpper, dtype: int64"
      ]
     },
     "execution_count": 43,
     "metadata": {},
     "output_type": "execute_result"
    }
   ],
   "source": [
    "data['CreditScoreRangeLower'].value_counts(dropna=False)"
   ]
  },
  {
   "cell_type": "code",
   "execution_count": 44,
   "metadata": {
    "collapsed": false
   },
   "outputs": [
    {
     "data": {
      "text/plain": [
       "NaN                    697\n",
       "1993-12-01 00:00:00    185\n",
       "1994-11-01 00:00:00    178\n",
       "1995-11-01 00:00:00    168\n",
       "1990-04-01 00:00:00    161\n",
       "1995-03-01 00:00:00    159\n",
       "1989-10-01 00:00:00    153\n",
       "1989-06-01 00:00:00    153\n",
       "1990-03-01 00:00:00    148\n",
       "1994-03-01 00:00:00    146\n",
       "1996-03-01 00:00:00    146\n",
       "1994-09-01 00:00:00    146\n",
       "1989-08-01 00:00:00    144\n",
       "1989-11-01 00:00:00    144\n",
       "1989-03-01 00:00:00    144\n",
       "1995-09-01 00:00:00    142\n",
       "1989-09-01 00:00:00    140\n",
       "1996-11-01 00:00:00    139\n",
       "1994-08-01 00:00:00    138\n",
       "1994-10-01 00:00:00    135\n",
       "1993-11-01 00:00:00    134\n",
       "1994-04-01 00:00:00    133\n",
       "1994-07-01 00:00:00    133\n",
       "1989-05-01 00:00:00    132\n",
       "1990-05-01 00:00:00    132\n",
       "1990-10-01 00:00:00    132\n",
       "1985-10-01 00:00:00    130\n",
       "1990-06-01 00:00:00    130\n",
       "1988-03-01 00:00:00    129\n",
       "1989-07-01 00:00:00    128\n",
       "                      ... \n",
       "1975-03-26 00:00:00      1\n",
       "1975-03-21 00:00:00      1\n",
       "1977-04-26 00:00:00      1\n",
       "1968-02-28 00:00:00      1\n",
       "1976-04-11 00:00:00      1\n",
       "1980-12-10 00:00:00      1\n",
       "1987-06-25 00:00:00      1\n",
       "1962-01-01 00:00:00      1\n",
       "1989-01-22 00:00:00      1\n",
       "2006-02-12 00:00:00      1\n",
       "1978-11-14 00:00:00      1\n",
       "2006-10-29 00:00:00      1\n",
       "1993-02-20 00:00:00      1\n",
       "1969-07-02 00:00:00      1\n",
       "1975-08-04 00:00:00      1\n",
       "1979-07-19 00:00:00      1\n",
       "1978-04-18 00:00:00      1\n",
       "1985-01-28 00:00:00      1\n",
       "2007-06-09 00:00:00      1\n",
       "1979-05-17 00:00:00      1\n",
       "1978-05-12 00:00:00      1\n",
       "2008-01-08 00:00:00      1\n",
       "1997-10-19 00:00:00      1\n",
       "1968-07-18 00:00:00      1\n",
       "1971-04-14 00:00:00      1\n",
       "1977-01-06 00:00:00      1\n",
       "1978-04-29 00:00:00      1\n",
       "1983-03-13 00:00:00      1\n",
       "1974-08-13 00:00:00      1\n",
       "1983-04-23 00:00:00      1\n",
       "Name: FirstRecordedCreditLine, dtype: int64"
      ]
     },
     "execution_count": 44,
     "metadata": {},
     "output_type": "execute_result"
    }
   ],
   "source": [
    "data['FirstRecordedCreditLine'].value_counts(dropna=False)"
   ]
  },
  {
   "cell_type": "code",
   "execution_count": null,
   "metadata": {
    "collapsed": true
   },
   "outputs": [],
   "source": [
    "#Score range individual, combinations? - check!!"
   ]
  },
  {
   "cell_type": "code",
   "execution_count": null,
   "metadata": {
    "collapsed": true
   },
   "outputs": [],
   "source": [
    "#CurrentCreditLines - 54"
   ]
  },
  {
   "cell_type": "code",
   "execution_count": null,
   "metadata": {
    "collapsed": true
   },
   "outputs": [],
   "source": [
    "#OpenCreditLines - 52"
   ]
  },
  {
   "cell_type": "code",
   "execution_count": null,
   "metadata": {
    "collapsed": true
   },
   "outputs": [],
   "source": [
    "#TotalCreditLinespast7years - 118"
   ]
  },
  {
   "cell_type": "code",
   "execution_count": null,
   "metadata": {
    "collapsed": true
   },
   "outputs": [],
   "source": [
    "#OpenRevolvingAccounts - 48"
   ]
  },
  {
   "cell_type": "code",
   "execution_count": null,
   "metadata": {
    "collapsed": true
   },
   "outputs": [],
   "source": [
    "#OpenRevolvingMonthlyPayment - 2834"
   ]
  },
  {
   "cell_type": "code",
   "execution_count": null,
   "metadata": {
    "collapsed": true
   },
   "outputs": [],
   "source": [
    "#InquiriesLast6Months - 50"
   ]
  },
  {
   "cell_type": "code",
   "execution_count": null,
   "metadata": {
    "collapsed": true
   },
   "outputs": [],
   "source": [
    "#TotalInquiries - 102"
   ]
  },
  {
   "cell_type": "code",
   "execution_count": null,
   "metadata": {
    "collapsed": true
   },
   "outputs": [],
   "source": [
    "#CurrentDelinquencies - 47"
   ]
  },
  {
   "cell_type": "code",
   "execution_count": null,
   "metadata": {
    "collapsed": true
   },
   "outputs": [],
   "source": [
    "#AmountDelinquent - maybe have ranges? make it categorical? (Same for above)"
   ]
  },
  {
   "cell_type": "code",
   "execution_count": null,
   "metadata": {
    "collapsed": true
   },
   "outputs": [],
   "source": [
    "#DelinquenciesLast7Years - 100"
   ]
  },
  {
   "cell_type": "code",
   "execution_count": null,
   "metadata": {
    "collapsed": true
   },
   "outputs": [],
   "source": [
    "# Unique and non informative!\n",
    "data = data.drop(['MemberKey'],axis=1)\n",
    "data = data.drop(['LoanKey'],axis=1)"
   ]
  },
  {
   "cell_type": "code",
   "execution_count": 88,
   "metadata": {
    "collapsed": false
   },
   "outputs": [
    {
     "data": {
      "text/plain": [
       "{'ClosedDate': 58848,\n",
       " 'CreditGrade': 84984,\n",
       " 'GroupKey': 100596,\n",
       " 'LoanFirstDefaultedCycleNumber': 96985,\n",
       " 'OnTimeProsperPayments': 91852,\n",
       " 'ProsperPaymentsLessThanOneMonthLate': 91852,\n",
       " 'ProsperPaymentsOneMonthPlusLate': 91852,\n",
       " 'ProsperPrincipalBorrowed': 91852,\n",
       " 'ProsperPrincipalOutstanding': 91852,\n",
       " 'ScorexChangeAtTimeOfListing': 95009,\n",
       " 'TotalProsperLoans': 91852,\n",
       " 'TotalProsperPaymentsBilled': 91852}"
      ]
     },
     "execution_count": 88,
     "metadata": {},
     "output_type": "execute_result"
    }
   ],
   "source": [
    "columns = list(data)\n",
    "nullcol = dict(data.isnull().sum())\n",
    "majornull = {}\n",
    "for i in range(len(columns)):\n",
    "    if(nullcol[columns[i]] >= (len(data)/2)):\n",
    "        majornull[d[i]] = nullcol[d[i]]\n",
    "majornul\n",
    "\n",
    "# Depicts all the attributes with the number of NULL Values > 50% "
   ]
  },
  {
   "cell_type": "code",
   "execution_count": null,
   "metadata": {
    "collapsed": true
   },
   "outputs": [],
   "source": [
    "z=[]\n",
    "x = set\n",
    "for i in range(40,len(d)):\n",
    "    z.append(d[i])\n",
    "    \n",
    "z = set(z)\n",
    "x= z.intersection(y)\n",
    "x = list(x)\n",
    "x #Set Items which have more than 50%default values "
   ]
  },
  {
   "cell_type": "code",
   "execution_count": 89,
   "metadata": {
    "collapsed": false
   },
   "outputs": [
    {
     "data": {
      "text/plain": [
       "Q4 2013    14450\n",
       "Q1 2014    12172\n",
       "Q3 2013     9180\n",
       "Q2 2013     7099\n",
       "Q3 2012     5632\n",
       "Q2 2012     5061\n",
       "Q1 2012     4435\n",
       "Q4 2012     4425\n",
       "Q2 2008     4344\n",
       "Q4 2011     3913\n",
       "Q1 2013     3616\n",
       "Q3 2008     3602\n",
       "Q2 2007     3118\n",
       "Q3 2011     3093\n",
       "Q1 2007     3079\n",
       "Q1 2008     3074\n",
       "Q3 2007     2671\n",
       "Q4 2007     2592\n",
       "Q2 2011     2478\n",
       "Q4 2006     2403\n",
       "Q3 2006     1934\n",
       "Q1 2011     1744\n",
       "Q4 2010     1600\n",
       "Q2 2010     1539\n",
       "Q4 2009     1449\n",
       "Q3 2010     1270\n",
       "Q2 2006     1254\n",
       "Q1 2010     1243\n",
       "Q3 2009      585\n",
       "Q4 2008      532\n",
       "Q1 2006      315\n",
       "Q4 2005       22\n",
       "Q2 2009       13\n",
       "Name: LoanOriginationQuarter, dtype: int64"
      ]
     },
     "execution_count": 89,
     "metadata": {},
     "output_type": "execute_result"
    }
   ],
   "source": [
    "((data['LoanOriginationQuarter'].value_counts()))\n",
    "#This is the count for invidual quarter and year values "
   ]
  },
  {
   "cell_type": "code",
   "execution_count": 90,
   "metadata": {
    "collapsed": false
   },
   "outputs": [
    {
     "data": {
      "text/plain": [
       "$25,000-49,999    32192\n",
       "$50,000-74,999    31050\n",
       "$100,000+         17337\n",
       "$75,000-99,999    16916\n",
       "Not displayed      7741\n",
       "$1-24,999          7274\n",
       "Not employed       1427\n",
       "Name: IncomeRange, dtype: int64"
      ]
     },
     "execution_count": 90,
     "metadata": {},
     "output_type": "execute_result"
    }
   ],
   "source": [
    "data['IncomeRange']=data['IncomeRange'].replace('$0','Not employed')\n",
    "data['IncomeRange'].value_counts()\n",
    "\n",
    "#Here we are replacing/merging 0$ and Not Employed under the category of Not Employed"
   ]
  },
  {
   "cell_type": "code",
   "execution_count": 91,
   "metadata": {
    "collapsed": false
   },
   "outputs": [
    {
     "data": {
      "text/plain": [
       "True     105268\n",
       "False      8669\n",
       "Name: IncomeVerifiable, dtype: int64"
      ]
     },
     "execution_count": 91,
     "metadata": {},
     "output_type": "execute_result"
    }
   ],
   "source": [
    "data['IncomeVerifiable'].value_counts()"
   ]
  },
  {
   "cell_type": "markdown",
   "metadata": {
    "collapsed": true
   },
   "source": [
    "### Calculating entropies and information gain\n",
    "\n",
    "**Defining functions for entropy and information gain**"
   ]
  },
  {
   "cell_type": "code",
   "execution_count": 94,
   "metadata": {
    "collapsed": true
   },
   "outputs": [],
   "source": [
    "def entropy(target):\n",
    "    '''\n",
    "        Computes the entropy for a set of instances (that's needed is the values of the target variable)\n",
    "        Presumes the target values are class indexes -- integers\n",
    "        Thus, target is an array of integers\n",
    "    '''\n",
    "    # Get the number of instances\n",
    "    n = len(target)\n",
    "    # Count how frequently each unique target value occurs using the numpy function \n",
    "    counts = np.bincount(target).astype(float)\n",
    "    # Initialize entropy\n",
    "    entropy = 0\n",
    "    \n",
    "    # Otherwise, for each possible value, update entropy; use zero for 0 log 0\n",
    "    for count in counts:\n",
    "        if count == 0:\n",
    "            entropy += 0\n",
    "        else:\n",
    "            entropy += math.log(count/n, 2) * count/n\n",
    "    # Return entropy\n",
    "    return -1 * entropy\n",
    "\n",
    "\n",
    "def information_gain(feature, threshold, target):\n",
    "    '''\n",
    "    This function takes three things:\n",
    "    feature - A list of all the values this feature takes on, in some instance order, e.g. data['revenue']\n",
    "    threshold - A number at which to threshold a continuous variable, e.g. 1.2\n",
    "    target - A list of all the target values, in the same order as feature, e.g. data['churndep']\n",
    "    '''\n",
    "    # Using numpy arrays makes this slightly easier\n",
    "    target = np.array(target)\n",
    "    feature = np.array(feature)\n",
    "    # Record if each feature value is above the threshold\n",
    "    feature = (feature <= threshold)\n",
    "    # Initialize information gain with the parent entropy\n",
    "    ig = entropy(target)\n",
    "    # For each side of the threshold, update the information gain\n",
    "    for level, count in zip([0, 1], np.bincount(feature).astype(float)):\n",
    "        ig -= count/len(feature) * entropy(target[feature == level])\n",
    "    # Return information gain\n",
    "    return ig"
   ]
  },
  {
   "cell_type": "markdown",
   "metadata": {
    "collapsed": true
   },
   "source": [
    "The **target** of this dataset is be a feature called 'LoanStatus' which we have made **binary** (1 for defaults and 0 for non defaults)"
   ]
  },
  {
   "cell_type": "code",
   "execution_count": null,
   "metadata": {
    "collapsed": true
   },
   "outputs": [],
   "source": []
  },
  {
   "cell_type": "markdown",
   "metadata": {},
   "source": [
    "**Importing required libraries**"
   ]
  },
  {
   "cell_type": "code",
   "execution_count": 95,
   "metadata": {
    "collapsed": true
   },
   "outputs": [],
   "source": [
    "import os\n",
    "import matplotlib.patches as patches\n",
    "import matplotlib.pylab as plt\n",
    "%matplotlib inline\n",
    "\n",
    "from sklearn.tree import DecisionTreeClassifier\n",
    "from sklearn import tree\n",
    "from sklearn import metrics\n",
    "from sklearn import datasets\n",
    "from IPython.display import Image"
   ]
  },
  {
   "cell_type": "code",
   "execution_count": 93,
   "metadata": {
    "collapsed": true
   },
   "outputs": [],
   "source": [
    "# A function that gives a visual representation of the decision tree\n",
    "\n",
    "def Decision_Tree_Image(decision_tree, feature_names, name=\"temp\"):    \n",
    "    # Export our decision tree to graphviz format\n",
    "    dot_file = tree.export_graphviz(decision_tree.tree_, out_file='images/' + name + '.dot', feature_names=feature_names)\n",
    "    # Call graphviz to make an image file from our decision tree\n",
    "    os.system(\"dot -T png images/\" + name + \".dot -o images/\" + name + \".png\")\n",
    "    # Return the .png image so we can see it\n",
    "    return Image(filename='images/' + name + '.png')\n",
    "\n",
    "\n",
    "# A function to plot the data\n",
    "\n",
    "def Plot_Data(data, v1, v2, tv):\n",
    "    # Make the plot square\n",
    "    plt.rcParams['figure.figsize'] = [12.0, 8.0]\n",
    "    # Color\n",
    "    color = [\"red\" if x == 0 else \"blue\" for x in data[tv]]\n",
    "    # Plot and label\n",
    "    plt.scatter(data[v1], data[v2], c=color, s=50)\n",
    "    plt.xlabel(v1)\n",
    "    plt.ylabel(v2)\n",
    "    plt.xlim([min(data[v1]) , max(data[v1]) ])\n",
    "    plt.ylim([min(data[v2]) , max(data[v2]) ])    \n",
    "\n",
    "# A function that creates the surface of a decision tree\n",
    "\n",
    "def Decision_Surface(data, target, model):\n",
    "    # Get bounds\n",
    "    x_min, x_max = data[data.columns[0]].min(), data[data.columns[0]].max()\n",
    "    y_min, y_max = data[data.columns[1]].min(), data[data.columns[1]].max()\n",
    "    # Create a mesh\n",
    "    xx, yy = np.meshgrid(np.arange(x_min, x_max,0.01), np.arange(y_min, y_max,0.01))\n",
    "    meshed_data = pd.DataFrame(np.c_[xx.ravel(), yy.ravel()])\n",
    "    plt.figure(figsize=[12,7])\n",
    "    Z = model.predict(meshed_data).reshape(xx.shape)\n",
    "    plt.title(\"Decision surface\")    \n",
    "    plt.ylabel(\"humor\")\n",
    "    plt.xlabel(\"number_pets\")\n",
    "    cs = plt.contourf(xx, yy, Z, levels=[-1,0,1],cmap=plt.cm.coolwarm,origin='lower')\n",
    "    color = [\"blue\" if t == 0 else \"red\" for t in target]\n",
    "    plt.scatter(data[data.columns[0]], data[data.columns[1]], color=color )"
   ]
  },
  {
   "cell_type": "markdown",
   "metadata": {
    "collapsed": true
   },
   "source": [
    "## Modeling"
   ]
  },
  {
   "cell_type": "code",
   "execution_count": null,
   "metadata": {
    "collapsed": false
   },
   "outputs": [],
   "source": [
    "from sklearn import metrics\n",
    "from random import randint\n",
    "from sklearn.model_selection import GridSearchCV\n",
    "\n",
    "from sklearn.tree import DecisionTreeClassifier\n",
    "from sklearn.linear_model import LogisticRegression\n",
    "from sklearn.model_selection import cross_val_score\n",
    "from sklearn.model_selection import train_test_split\n",
    "from sklearn.feature_extraction.text import CountVectorizer\n",
    "from sklearn.feature_extraction.text import TfidfVectorizer\n",
    "\n",
    "import matplotlib.pyplot as plt\n",
    "%matplotlib inline\n",
    "plt.rcParams['figure.figsize'] = 10, 8"
   ]
  },
  {
   "cell_type": "markdown",
   "metadata": {
    "collapsed": true
   },
   "source": [
    "## Evaluation \n",
    "\n",
    "20-80 or 10-90 (10 or 5 fold cross validation)"
   ]
  },
  {
   "cell_type": "code",
   "execution_count": null,
   "metadata": {
    "collapsed": true
   },
   "outputs": [],
   "source": []
  }
 ],
 "metadata": {
  "kernelspec": {
   "display_name": "Python 3",
   "language": "python",
   "name": "python3"
  },
  "language_info": {
   "codemirror_mode": {
    "name": "ipython",
    "version": 3
   },
   "file_extension": ".py",
   "mimetype": "text/x-python",
   "name": "python",
   "nbconvert_exporter": "python",
   "pygments_lexer": "ipython3",
   "version": "3.6.0"
  }
 },
 "nbformat": 4,
 "nbformat_minor": 0
}
